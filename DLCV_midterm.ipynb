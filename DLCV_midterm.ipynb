{
 "cells": [
  {
   "cell_type": "markdown",
   "metadata": {},
   "source": [
    "## Midterm project"
   ]
  },
  {
   "cell_type": "markdown",
   "metadata": {},
   "source": [
    "CITATIONS:\n",
    "- https://github.com/poojahira/gtsrb-pytorch\n",
    "- https://github.com/surajmurthy/TSR_PyTorch"
   ]
  },
  {
   "cell_type": "code",
   "execution_count": 1,
   "metadata": {},
   "outputs": [],
   "source": [
    "import numpy as np\n",
    "import torch\n",
    "import torch.nn as nn\n",
    "import torch.nn.functional as F\n",
    "import torch.optim as optim\n",
    "import torchvision\n",
    "from torchvision import transforms\n",
    "from tqdm import tqdm\n",
    "import random\n",
    "import matplotlib.pyplot as plt\n",
    "from torch.utils import data\n",
    "from torch.autograd import Variable\n",
    "from torchvision.io import read_image\n",
    "from model import GTSRBnet"
   ]
  },
  {
   "cell_type": "markdown",
   "metadata": {},
   "source": [
    "## Training"
   ]
  },
  {
   "cell_type": "code",
   "execution_count": 2,
   "metadata": {},
   "outputs": [
    {
     "name": "stdout",
     "output_type": "stream",
     "text": [
      "Number of training samples = 35288\n",
      "Number of validation samples = 3921\n"
     ]
    },
    {
     "data": {
      "text/plain": [
       "Text(0, 0.5, '# of examples')"
      ]
     },
     "execution_count": 2,
     "metadata": {},
     "output_type": "execute_result"
    },
    {
     "data": {
      "image/png": "[encoded data removed]",
      "text/plain": [
       "<Figure size 720x360 with 1 Axes>"
      ]
     },
     "metadata": {
      "needs_background": "light"
     },
     "output_type": "display_data"
    }
   ],
   "source": [
    "transform = transforms.Compose([\n",
    "    transforms.Grayscale(num_output_channels=1),\n",
    "    transforms.Resize([212, 256]),\n",
    "    transforms.ToTensor()\n",
    "])\n",
    "\n",
    "# Define path of training data\n",
    "train_data_path = '/home/stringlab/Desktop/DLCV_midterm_project/GTSRB_Final_Training_Images/GTSRB/Final_Training/Images' \n",
    "train_data = torchvision.datasets.ImageFolder(root = train_data_path, transform=transform)\n",
    "\n",
    "# Divide data into training and validation set\n",
    "train_ratio = 0.9\n",
    "n_train_examples = int(len(train_data) * train_ratio)\n",
    "n_val_examples = len(train_data) - n_train_examples\n",
    "\n",
    "train_data, val_data = data.random_split(train_data, [n_train_examples, n_val_examples])\n",
    "print(f\"Number of training samples = {len(train_data)}\")\n",
    "print(f\"Number of validation samples = {len(val_data)}\")\n",
    "\n",
    "num_train_classes = len(train_data.dataset.classes)\n",
    "train_hist = [0]*num_train_classes\n",
    "for i in train_data.indices:\n",
    "    tar = train_data.dataset.targets[i]\n",
    "    train_hist[tar] += 1\n",
    "\n",
    "num_val_classes = len(val_data.dataset.classes)\n",
    "val_hist = [0]*num_val_classes\n",
    "for i in val_data.indices:\n",
    "    tar = val_data.dataset.targets[i]\n",
    "    val_hist[tar] += 1\n",
    "\n",
    "plt.figure(figsize=(10, 5))\n",
    "plt.bar(range(num_train_classes), train_hist, label=\"train\")\n",
    "plt.bar(range(num_val_classes), val_hist, label=\"val\")\n",
    "#plt.bar(range(num_test_classes), test_hist, label=\"test\")\n",
    "legend = plt.legend(loc='upper right', shadow=True)\n",
    "plt.title(\"Distribution Plot\")\n",
    "plt.xlabel(\"Class ID\")\n",
    "plt.ylabel(\"# of examples\")"
   ]
  },
  {
   "cell_type": "code",
   "execution_count": 3,
   "metadata": {},
   "outputs": [],
   "source": [
    "# Create data loader for training and validation\n",
    "BATCH_SIZE = 100\n",
    "device = torch.device(\"cuda:0\" if torch.cuda.is_available() else \"cpu\")\n",
    "train_loader = data.DataLoader(train_data, shuffle=True, batch_size=BATCH_SIZE)\n",
    "val_loader = data.DataLoader(val_data, shuffle=True, batch_size=BATCH_SIZE)\n",
    "\n",
    "# Neural Network and Optimizer\n",
    "model = GTSRBnet(num_train_classes)\n",
    "model = model.to(device);\n",
    "\n",
    "# Define loss function and optimizer\n",
    "optimizer = optim.Adam(model.parameters(), lr=1e-3)\n",
    "scheduler = optim.lr_scheduler.ReduceLROnPlateau(optimizer, 'min', patience=5, factor=0.5, verbose=True)"
   ]
  },
  {
   "cell_type": "code",
   "execution_count": 4,
   "metadata": {},
   "outputs": [],
   "source": [
    "def train(epoch):\n",
    "    model.train()\n",
    "    correct = 0\n",
    "    training_loss = 0\n",
    "    for batch_idx, (data, target) in enumerate(train_loader):\n",
    "        data, target = Variable(data), Variable(target)\n",
    "        data, target = data.to(device), target.to(device)   \n",
    "        optimizer.zero_grad()\n",
    "        output = model(data)\n",
    "        loss = F.nll_loss(output, target)\n",
    "        loss.backward()\n",
    "        optimizer.step()\n",
    "        max_index = output.max(dim = 1)[1]\n",
    "        correct += (max_index == target).sum()\n",
    "        training_loss += loss\n",
    "    avg_train_loss = training_loss / len(train_loader.dataset)\n",
    "    avg_train_acc = 100. * correct / len(train_loader.dataset)\n",
    "    print('\\nTraining set: Average loss: {:.4f}, Accuracy: {:.0f}%\\n'.format(\n",
    "                avg_train_loss, avg_train_acc))\n",
    "    return avg_train_loss.detach().cpu().numpy(), avg_train_acc.detach().cpu().numpy()\n",
    "\n",
    "def validation():\n",
    "    model.eval()\n",
    "    validation_loss = 0\n",
    "    correct = 0\n",
    "    for data, target in val_loader:\n",
    "        with torch.no_grad():\n",
    "            data, target = Variable(data), Variable(target)\n",
    "            data, target = data.to(device), target.to(device)\n",
    "            output = model(data)\n",
    "            validation_loss += F.nll_loss(output, target, size_average=False).data.item() # sum up batch loss\n",
    "            pred = output.data.max(1, keepdim=True)[1] # get the index of the max log-probability\n",
    "            correct += pred.eq(target.data.view_as(pred)).cpu().sum()\n",
    "\n",
    "    validation_loss /= len(val_loader.dataset)\n",
    "    scheduler.step(np.around(validation_loss,2))\n",
    "    validation_acc = 100. * correct / len(val_loader.dataset)\n",
    "    print('\\nValidation set: Average loss: {:.4f}, Accuracy: {:.0f}%\\n'.format(\n",
    "        validation_loss, validation_acc))\n",
    "    return validation_loss, validation_acc\n"
   ]
  },
  {
   "cell_type": "code",
   "execution_count": 5,
   "metadata": {},
   "outputs": [
    {
     "name": "stderr",
     "output_type": "stream",
     "text": [
      "  0%|          | 0/49 [00:00<?, ?it/s]"
     ]
    },
    {
     "name": "stdout",
     "output_type": "stream",
     "text": [
      "\n",
      "Training set: Average loss: 0.0345, Accuracy: 8%\n",
      "\n"
     ]
    },
    {
     "name": "stderr",
     "output_type": "stream",
     "text": [
      "/home/stringlab/anaconda3/lib/python3.9/site-packages/torch/nn/_reduction.py:42: UserWarning: size_average and reduce args will be deprecated, please use reduction='sum' instead.\n",
      "  warnings.warn(warning.format(ret))\n"
     ]
    },
    {
     "name": "stdout",
     "output_type": "stream",
     "text": [
      "\n",
      "Validation set: Average loss: 2.5406, Accuracy: 26%\n",
      "\n"
     ]
    },
    {
     "name": "stderr",
     "output_type": "stream",
     "text": [
      "  2%|▏         | 1/49 [00:57<46:10, 57.72s/it]"
     ]
    },
    {
     "name": "stdout",
     "output_type": "stream",
     "text": [
      "\n",
      "Saved model to trained_models/model_1.pth\n",
      "\n",
      "Training set: Average loss: 0.0123, Accuracy: 62%\n",
      "\n"
     ]
    },
    {
     "name": "stderr",
     "output_type": "stream",
     "text": [
      "  4%|▍         | 2/49 [01:54<44:48, 57.20s/it]"
     ]
    },
    {
     "name": "stdout",
     "output_type": "stream",
     "text": [
      "\n",
      "Validation set: Average loss: 0.1819, Accuracy: 95%\n",
      "\n",
      "\n",
      "Saved model to trained_models/model_2.pth\n",
      "\n",
      "Training set: Average loss: 0.0016, Accuracy: 95%\n",
      "\n",
      "\n",
      "Validation set: Average loss: 0.0679, Accuracy: 98%\n",
      "\n"
     ]
    },
    {
     "name": "stderr",
     "output_type": "stream",
     "text": [
      "  6%|▌         | 3/49 [02:52<44:10, 57.61s/it]"
     ]
    },
    {
     "name": "stdout",
     "output_type": "stream",
     "text": [
      "\n",
      "Saved model to trained_models/model_3.pth\n",
      "\n",
      "Training set: Average loss: 0.0006, Accuracy: 98%\n",
      "\n"
     ]
    },
    {
     "name": "stderr",
     "output_type": "stream",
     "text": [
      "  8%|▊         | 4/49 [03:50<43:13, 57.64s/it]"
     ]
    },
    {
     "name": "stdout",
     "output_type": "stream",
     "text": [
      "\n",
      "Validation set: Average loss: 0.0226, Accuracy: 99%\n",
      "\n",
      "\n",
      "Saved model to trained_models/model_4.pth\n",
      "\n",
      "Training set: Average loss: 0.0004, Accuracy: 99%\n",
      "\n",
      "\n",
      "Validation set: Average loss: 0.0366, Accuracy: 99%\n",
      "\n"
     ]
    },
    {
     "name": "stderr",
     "output_type": "stream",
     "text": [
      " 10%|█         | 5/49 [04:48<42:22, 57.79s/it]"
     ]
    },
    {
     "name": "stdout",
     "output_type": "stream",
     "text": [
      "\n",
      "Saved model to trained_models/model_5.pth\n",
      "\n",
      "Training set: Average loss: 0.0003, Accuracy: 99%\n",
      "\n"
     ]
    },
    {
     "name": "stderr",
     "output_type": "stream",
     "text": [
      " 12%|█▏        | 6/49 [05:46<41:25, 57.79s/it]"
     ]
    },
    {
     "name": "stdout",
     "output_type": "stream",
     "text": [
      "\n",
      "Validation set: Average loss: 0.0284, Accuracy: 99%\n",
      "\n",
      "\n",
      "Saved model to trained_models/model_6.pth\n",
      "\n",
      "Training set: Average loss: 0.0003, Accuracy: 99%\n",
      "\n",
      "\n",
      "Validation set: Average loss: 0.0131, Accuracy: 100%\n",
      "\n"
     ]
    },
    {
     "name": "stderr",
     "output_type": "stream",
     "text": [
      " 14%|█▍        | 7/49 [06:44<40:30, 57.88s/it]"
     ]
    },
    {
     "name": "stdout",
     "output_type": "stream",
     "text": [
      "\n",
      "Saved model to trained_models/model_7.pth\n",
      "\n",
      "Training set: Average loss: 0.0003, Accuracy: 99%\n",
      "\n"
     ]
    },
    {
     "name": "stderr",
     "output_type": "stream",
     "text": [
      " 16%|█▋        | 8/49 [07:41<39:31, 57.83s/it]"
     ]
    },
    {
     "name": "stdout",
     "output_type": "stream",
     "text": [
      "\n",
      "Validation set: Average loss: 0.0428, Accuracy: 99%\n",
      "\n",
      "\n",
      "Saved model to trained_models/model_8.pth\n",
      "\n",
      "Training set: Average loss: 0.0002, Accuracy: 99%\n",
      "\n"
     ]
    },
    {
     "name": "stderr",
     "output_type": "stream",
     "text": [
      " 18%|█▊        | 9/49 [08:39<38:32, 57.82s/it]"
     ]
    },
    {
     "name": "stdout",
     "output_type": "stream",
     "text": [
      "\n",
      "Validation set: Average loss: 0.0333, Accuracy: 99%\n",
      "\n",
      "\n",
      "Saved model to trained_models/model_9.pth\n",
      "\n",
      "Training set: Average loss: 0.0002, Accuracy: 99%\n",
      "\n",
      "\n",
      "Validation set: Average loss: 0.0174, Accuracy: 100%\n",
      "\n"
     ]
    },
    {
     "name": "stderr",
     "output_type": "stream",
     "text": [
      " 20%|██        | 10/49 [09:37<37:36, 57.87s/it]"
     ]
    },
    {
     "name": "stdout",
     "output_type": "stream",
     "text": [
      "\n",
      "Saved model to trained_models/model_10.pth\n",
      "\n",
      "Training set: Average loss: 0.0002, Accuracy: 99%\n",
      "\n"
     ]
    },
    {
     "name": "stderr",
     "output_type": "stream",
     "text": [
      " 22%|██▏       | 11/49 [10:35<36:38, 57.85s/it]"
     ]
    },
    {
     "name": "stdout",
     "output_type": "stream",
     "text": [
      "\n",
      "Validation set: Average loss: 0.0604, Accuracy: 98%\n",
      "\n",
      "\n",
      "Saved model to trained_models/model_11.pth\n",
      "\n",
      "Training set: Average loss: 0.0002, Accuracy: 99%\n",
      "\n"
     ]
    },
    {
     "name": "stderr",
     "output_type": "stream",
     "text": [
      " 24%|██▍       | 12/49 [11:32<35:35, 57.71s/it]"
     ]
    },
    {
     "name": "stdout",
     "output_type": "stream",
     "text": [
      "\n",
      "Validation set: Average loss: 0.0915, Accuracy: 97%\n",
      "\n",
      "\n",
      "Saved model to trained_models/model_12.pth\n",
      "\n",
      "Training set: Average loss: 0.0002, Accuracy: 99%\n",
      "\n",
      "Epoch    13: reducing learning rate of group 0 to 5.0000e-04.\n",
      "\n",
      "Validation set: Average loss: 0.0117, Accuracy: 100%\n",
      "\n"
     ]
    },
    {
     "name": "stderr",
     "output_type": "stream",
     "text": [
      " 27%|██▋       | 13/49 [12:30<34:38, 57.73s/it]"
     ]
    },
    {
     "name": "stdout",
     "output_type": "stream",
     "text": [
      "\n",
      "Saved model to trained_models/model_13.pth\n",
      "\n",
      "Training set: Average loss: 0.0001, Accuracy: 100%\n",
      "\n",
      "\n",
      "Validation set: Average loss: 0.0094, Accuracy: 100%\n",
      "\n"
     ]
    },
    {
     "name": "stderr",
     "output_type": "stream",
     "text": [
      " 29%|██▊       | 14/49 [13:28<33:40, 57.73s/it]"
     ]
    },
    {
     "name": "stdout",
     "output_type": "stream",
     "text": [
      "\n",
      "Saved model to trained_models/model_14.pth\n",
      "\n",
      "Training set: Average loss: 0.0000, Accuracy: 100%\n",
      "\n",
      "\n",
      "Validation set: Average loss: 0.0082, Accuracy: 100%\n",
      "\n"
     ]
    },
    {
     "name": "stderr",
     "output_type": "stream",
     "text": [
      " 31%|███       | 15/49 [14:26<32:42, 57.73s/it]"
     ]
    },
    {
     "name": "stdout",
     "output_type": "stream",
     "text": [
      "\n",
      "Saved model to trained_models/model_15.pth\n",
      "\n",
      "Training set: Average loss: 0.0000, Accuracy: 100%\n",
      "\n",
      "\n",
      "Validation set: Average loss: 0.0067, Accuracy: 100%\n",
      "\n"
     ]
    },
    {
     "name": "stderr",
     "output_type": "stream",
     "text": [
      " 33%|███▎      | 16/49 [15:24<31:48, 57.84s/it]"
     ]
    },
    {
     "name": "stdout",
     "output_type": "stream",
     "text": [
      "\n",
      "Saved model to trained_models/model_16.pth\n",
      "\n",
      "Training set: Average loss: 0.0000, Accuracy: 100%\n",
      "\n"
     ]
    },
    {
     "name": "stderr",
     "output_type": "stream",
     "text": [
      " 35%|███▍      | 17/49 [16:22<30:52, 57.89s/it]"
     ]
    },
    {
     "name": "stdout",
     "output_type": "stream",
     "text": [
      "\n",
      "Validation set: Average loss: 0.0036, Accuracy: 100%\n",
      "\n",
      "\n",
      "Saved model to trained_models/model_17.pth\n",
      "\n",
      "Training set: Average loss: 0.0001, Accuracy: 100%\n",
      "\n",
      "\n",
      "Validation set: Average loss: 0.0074, Accuracy: 100%\n",
      "\n"
     ]
    },
    {
     "name": "stderr",
     "output_type": "stream",
     "text": [
      " 37%|███▋      | 18/49 [17:19<29:51, 57.78s/it]"
     ]
    },
    {
     "name": "stdout",
     "output_type": "stream",
     "text": [
      "\n",
      "Saved model to trained_models/model_18.pth\n",
      "\n",
      "Training set: Average loss: 0.0001, Accuracy: 100%\n",
      "\n",
      "\n",
      "Validation set: Average loss: 0.0108, Accuracy: 100%\n",
      "\n"
     ]
    },
    {
     "name": "stderr",
     "output_type": "stream",
     "text": [
      " 39%|███▉      | 19/49 [18:17<28:49, 57.65s/it]"
     ]
    },
    {
     "name": "stdout",
     "output_type": "stream",
     "text": [
      "\n",
      "Saved model to trained_models/model_19.pth\n",
      "\n",
      "Training set: Average loss: 0.0001, Accuracy: 100%\n",
      "\n",
      "\n",
      "Validation set: Average loss: 0.0083, Accuracy: 100%\n",
      "\n"
     ]
    },
    {
     "name": "stderr",
     "output_type": "stream",
     "text": [
      " 41%|████      | 20/49 [19:14<27:52, 57.67s/it]"
     ]
    },
    {
     "name": "stdout",
     "output_type": "stream",
     "text": [
      "\n",
      "Saved model to trained_models/model_20.pth\n",
      "\n",
      "Training set: Average loss: 0.0001, Accuracy: 100%\n",
      "\n"
     ]
    },
    {
     "name": "stderr",
     "output_type": "stream",
     "text": [
      " 43%|████▎     | 21/49 [20:12<26:54, 57.66s/it]"
     ]
    },
    {
     "name": "stdout",
     "output_type": "stream",
     "text": [
      "\n",
      "Validation set: Average loss: 0.0050, Accuracy: 100%\n",
      "\n",
      "\n",
      "Saved model to trained_models/model_21.pth\n",
      "\n",
      "Training set: Average loss: 0.0001, Accuracy: 100%\n",
      "\n"
     ]
    },
    {
     "name": "stderr",
     "output_type": "stream",
     "text": [
      " 45%|████▍     | 22/49 [21:10<25:55, 57.61s/it]"
     ]
    },
    {
     "name": "stdout",
     "output_type": "stream",
     "text": [
      "\n",
      "Validation set: Average loss: 0.1197, Accuracy: 97%\n",
      "\n",
      "\n",
      "Saved model to trained_models/model_22.pth\n",
      "\n",
      "Training set: Average loss: 0.0001, Accuracy: 100%\n",
      "\n"
     ]
    },
    {
     "name": "stderr",
     "output_type": "stream",
     "text": [
      " 47%|████▋     | 23/49 [22:07<24:57, 57.60s/it]"
     ]
    },
    {
     "name": "stdout",
     "output_type": "stream",
     "text": [
      "Epoch    23: reducing learning rate of group 0 to 2.5000e-04.\n",
      "\n",
      "Validation set: Average loss: 0.0058, Accuracy: 100%\n",
      "\n",
      "\n",
      "Saved model to trained_models/model_23.pth\n",
      "\n",
      "Training set: Average loss: 0.0000, Accuracy: 100%\n",
      "\n",
      "\n",
      "Validation set: Average loss: 0.0049, Accuracy: 100%\n",
      "\n"
     ]
    },
    {
     "name": "stderr",
     "output_type": "stream",
     "text": [
      " 49%|████▉     | 24/49 [23:08<24:22, 58.50s/it]"
     ]
    },
    {
     "name": "stdout",
     "output_type": "stream",
     "text": [
      "\n",
      "Saved model to trained_models/model_24.pth\n",
      "\n",
      "Training set: Average loss: 0.0000, Accuracy: 100%\n",
      "\n",
      "\n",
      "Validation set: Average loss: 0.0063, Accuracy: 100%\n",
      "\n"
     ]
    },
    {
     "name": "stderr",
     "output_type": "stream",
     "text": [
      " 51%|█████     | 25/49 [24:10<23:49, 59.58s/it]"
     ]
    },
    {
     "name": "stdout",
     "output_type": "stream",
     "text": [
      "\n",
      "Saved model to trained_models/model_25.pth\n",
      "\n",
      "Training set: Average loss: 0.0000, Accuracy: 100%\n",
      "\n",
      "\n",
      "Validation set: Average loss: 0.0048, Accuracy: 100%\n",
      "\n"
     ]
    },
    {
     "name": "stderr",
     "output_type": "stream",
     "text": [
      " 53%|█████▎    | 26/49 [25:11<22:58, 59.96s/it]"
     ]
    },
    {
     "name": "stdout",
     "output_type": "stream",
     "text": [
      "\n",
      "Saved model to trained_models/model_26.pth\n",
      "\n",
      "Training set: Average loss: 0.0000, Accuracy: 100%\n",
      "\n",
      "\n",
      "Validation set: Average loss: 0.0065, Accuracy: 100%\n",
      "\n"
     ]
    },
    {
     "name": "stderr",
     "output_type": "stream",
     "text": [
      " 55%|█████▌    | 27/49 [26:11<22:03, 60.15s/it]"
     ]
    },
    {
     "name": "stdout",
     "output_type": "stream",
     "text": [
      "\n",
      "Saved model to trained_models/model_27.pth\n",
      "\n",
      "Training set: Average loss: 0.0000, Accuracy: 100%\n",
      "\n",
      "\n",
      "Validation set: Average loss: 0.0060, Accuracy: 100%\n",
      "\n"
     ]
    },
    {
     "name": "stderr",
     "output_type": "stream",
     "text": [
      " 57%|█████▋    | 28/49 [27:11<21:01, 60.09s/it]"
     ]
    },
    {
     "name": "stdout",
     "output_type": "stream",
     "text": [
      "\n",
      "Saved model to trained_models/model_28.pth\n",
      "\n",
      "Training set: Average loss: 0.0000, Accuracy: 100%\n",
      "\n",
      "Epoch    29: reducing learning rate of group 0 to 1.2500e-04.\n",
      "\n",
      "Validation set: Average loss: 0.0067, Accuracy: 100%\n",
      "\n"
     ]
    },
    {
     "name": "stderr",
     "output_type": "stream",
     "text": [
      " 59%|█████▉    | 29/49 [28:08<19:39, 58.98s/it]"
     ]
    },
    {
     "name": "stdout",
     "output_type": "stream",
     "text": [
      "\n",
      "Saved model to trained_models/model_29.pth\n",
      "\n",
      "Training set: Average loss: 0.0000, Accuracy: 100%\n",
      "\n"
     ]
    },
    {
     "name": "stderr",
     "output_type": "stream",
     "text": [
      " 61%|██████    | 30/49 [29:03<18:22, 58.05s/it]"
     ]
    },
    {
     "name": "stdout",
     "output_type": "stream",
     "text": [
      "\n",
      "Validation set: Average loss: 0.0061, Accuracy: 100%\n",
      "\n",
      "\n",
      "Saved model to trained_models/model_30.pth\n",
      "\n",
      "Training set: Average loss: 0.0000, Accuracy: 100%\n",
      "\n",
      "\n",
      "Validation set: Average loss: 0.0061, Accuracy: 100%\n",
      "\n"
     ]
    },
    {
     "name": "stderr",
     "output_type": "stream",
     "text": [
      " 63%|██████▎   | 31/49 [30:01<17:22, 57.92s/it]"
     ]
    },
    {
     "name": "stdout",
     "output_type": "stream",
     "text": [
      "\n",
      "Saved model to trained_models/model_31.pth\n",
      "\n",
      "Training set: Average loss: 0.0000, Accuracy: 100%\n",
      "\n",
      "\n",
      "Validation set: Average loss: 0.0032, Accuracy: 100%\n",
      "\n"
     ]
    },
    {
     "name": "stderr",
     "output_type": "stream",
     "text": [
      " 65%|██████▌   | 32/49 [30:59<16:22, 57.81s/it]"
     ]
    },
    {
     "name": "stdout",
     "output_type": "stream",
     "text": [
      "\n",
      "Saved model to trained_models/model_32.pth\n",
      "\n",
      "Training set: Average loss: 0.0000, Accuracy: 100%\n",
      "\n",
      "\n",
      "Validation set: Average loss: 0.0042, Accuracy: 100%\n",
      "\n"
     ]
    },
    {
     "name": "stderr",
     "output_type": "stream",
     "text": [
      " 67%|██████▋   | 33/49 [31:56<15:24, 57.77s/it]"
     ]
    },
    {
     "name": "stdout",
     "output_type": "stream",
     "text": [
      "\n",
      "Saved model to trained_models/model_33.pth\n",
      "\n",
      "Training set: Average loss: 0.0000, Accuracy: 100%\n",
      "\n",
      "\n",
      "Validation set: Average loss: 0.0047, Accuracy: 100%\n",
      "\n"
     ]
    },
    {
     "name": "stderr",
     "output_type": "stream",
     "text": [
      " 69%|██████▉   | 34/49 [32:54<14:25, 57.68s/it]"
     ]
    },
    {
     "name": "stdout",
     "output_type": "stream",
     "text": [
      "\n",
      "Saved model to trained_models/model_34.pth\n",
      "\n",
      "Training set: Average loss: 0.0000, Accuracy: 100%\n",
      "\n"
     ]
    },
    {
     "name": "stderr",
     "output_type": "stream",
     "text": [
      " 71%|███████▏  | 35/49 [33:52<13:29, 57.83s/it]"
     ]
    },
    {
     "name": "stdout",
     "output_type": "stream",
     "text": [
      "Epoch    35: reducing learning rate of group 0 to 6.2500e-05.\n",
      "\n",
      "Validation set: Average loss: 0.0033, Accuracy: 100%\n",
      "\n",
      "\n",
      "Saved model to trained_models/model_35.pth\n",
      "\n",
      "Training set: Average loss: 0.0000, Accuracy: 100%\n",
      "\n",
      "\n",
      "Validation set: Average loss: 0.0032, Accuracy: 100%\n",
      "\n"
     ]
    },
    {
     "name": "stderr",
     "output_type": "stream",
     "text": [
      " 73%|███████▎  | 36/49 [34:50<12:32, 57.87s/it]"
     ]
    },
    {
     "name": "stdout",
     "output_type": "stream",
     "text": [
      "\n",
      "Saved model to trained_models/model_36.pth\n",
      "\n",
      "Training set: Average loss: 0.0000, Accuracy: 100%\n",
      "\n",
      "\n",
      "Validation set: Average loss: 0.0035, Accuracy: 100%\n",
      "\n"
     ]
    },
    {
     "name": "stderr",
     "output_type": "stream",
     "text": [
      " 76%|███████▌  | 37/49 [35:48<11:33, 57.83s/it]"
     ]
    },
    {
     "name": "stdout",
     "output_type": "stream",
     "text": [
      "\n",
      "Saved model to trained_models/model_37.pth\n",
      "\n",
      "Training set: Average loss: 0.0000, Accuracy: 100%\n",
      "\n"
     ]
    },
    {
     "name": "stderr",
     "output_type": "stream",
     "text": [
      " 78%|███████▊  | 38/49 [36:46<10:38, 58.03s/it]"
     ]
    },
    {
     "name": "stdout",
     "output_type": "stream",
     "text": [
      "\n",
      "Validation set: Average loss: 0.0030, Accuracy: 100%\n",
      "\n",
      "\n",
      "Saved model to trained_models/model_38.pth\n",
      "\n",
      "Training set: Average loss: 0.0000, Accuracy: 100%\n",
      "\n",
      "\n",
      "Validation set: Average loss: 0.0009, Accuracy: 100%\n",
      "\n"
     ]
    },
    {
     "name": "stderr",
     "output_type": "stream",
     "text": [
      " 80%|███████▉  | 39/49 [37:44<09:38, 57.89s/it]"
     ]
    },
    {
     "name": "stdout",
     "output_type": "stream",
     "text": [
      "\n",
      "Saved model to trained_models/model_39.pth\n",
      "\n",
      "Training set: Average loss: 0.0000, Accuracy: 100%\n",
      "\n",
      "\n",
      "Validation set: Average loss: 0.0020, Accuracy: 100%\n",
      "\n"
     ]
    },
    {
     "name": "stderr",
     "output_type": "stream",
     "text": [
      " 82%|████████▏ | 40/49 [38:41<08:40, 57.84s/it]"
     ]
    },
    {
     "name": "stdout",
     "output_type": "stream",
     "text": [
      "\n",
      "Saved model to trained_models/model_40.pth\n",
      "\n",
      "Training set: Average loss: 0.0000, Accuracy: 100%\n",
      "\n"
     ]
    },
    {
     "name": "stderr",
     "output_type": "stream",
     "text": [
      " 84%|████████▎ | 41/49 [39:39<07:42, 57.87s/it]"
     ]
    },
    {
     "name": "stdout",
     "output_type": "stream",
     "text": [
      "Epoch    41: reducing learning rate of group 0 to 3.1250e-05.\n",
      "\n",
      "Validation set: Average loss: 0.0020, Accuracy: 100%\n",
      "\n",
      "\n",
      "Saved model to trained_models/model_41.pth\n",
      "\n",
      "Training set: Average loss: 0.0000, Accuracy: 100%\n",
      "\n",
      "\n",
      "Validation set: Average loss: 0.0020, Accuracy: 100%\n",
      "\n"
     ]
    },
    {
     "name": "stderr",
     "output_type": "stream",
     "text": [
      " 86%|████████▌ | 42/49 [40:37<06:44, 57.73s/it]"
     ]
    },
    {
     "name": "stdout",
     "output_type": "stream",
     "text": [
      "\n",
      "Saved model to trained_models/model_42.pth\n",
      "\n",
      "Training set: Average loss: 0.0000, Accuracy: 100%\n",
      "\n",
      "\n",
      "Validation set: Average loss: 0.0018, Accuracy: 100%\n",
      "\n"
     ]
    },
    {
     "name": "stderr",
     "output_type": "stream",
     "text": [
      " 88%|████████▊ | 43/49 [41:34<05:45, 57.66s/it]"
     ]
    },
    {
     "name": "stdout",
     "output_type": "stream",
     "text": [
      "\n",
      "Saved model to trained_models/model_43.pth\n",
      "\n",
      "Training set: Average loss: 0.0000, Accuracy: 100%\n",
      "\n",
      "\n",
      "Validation set: Average loss: 0.0015, Accuracy: 100%\n",
      "\n"
     ]
    },
    {
     "name": "stderr",
     "output_type": "stream",
     "text": [
      " 90%|████████▉ | 44/49 [42:32<04:48, 57.66s/it]"
     ]
    },
    {
     "name": "stdout",
     "output_type": "stream",
     "text": [
      "\n",
      "Saved model to trained_models/model_44.pth\n",
      "\n",
      "Training set: Average loss: 0.0000, Accuracy: 100%\n",
      "\n"
     ]
    },
    {
     "name": "stderr",
     "output_type": "stream",
     "text": [
      " 92%|█████████▏| 45/49 [43:30<03:50, 57.72s/it]"
     ]
    },
    {
     "name": "stdout",
     "output_type": "stream",
     "text": [
      "\n",
      "Validation set: Average loss: 0.0017, Accuracy: 100%\n",
      "\n",
      "\n",
      "Saved model to trained_models/model_45.pth\n",
      "\n",
      "Training set: Average loss: 0.0000, Accuracy: 100%\n",
      "\n"
     ]
    },
    {
     "name": "stderr",
     "output_type": "stream",
     "text": [
      " 94%|█████████▍| 46/49 [44:28<02:53, 57.86s/it]"
     ]
    },
    {
     "name": "stdout",
     "output_type": "stream",
     "text": [
      "\n",
      "Validation set: Average loss: 0.0013, Accuracy: 100%\n",
      "\n",
      "\n",
      "Saved model to trained_models/model_46.pth\n",
      "\n",
      "Training set: Average loss: 0.0000, Accuracy: 100%\n",
      "\n",
      "Epoch    47: reducing learning rate of group 0 to 1.5625e-05.\n",
      "\n",
      "Validation set: Average loss: 0.0013, Accuracy: 100%\n",
      "\n"
     ]
    },
    {
     "name": "stderr",
     "output_type": "stream",
     "text": [
      " 96%|█████████▌| 47/49 [45:25<01:55, 57.70s/it]"
     ]
    },
    {
     "name": "stdout",
     "output_type": "stream",
     "text": [
      "\n",
      "Saved model to trained_models/model_47.pth\n",
      "\n",
      "Training set: Average loss: 0.0000, Accuracy: 100%\n",
      "\n",
      "\n",
      "Validation set: Average loss: 0.0015, Accuracy: 100%\n",
      "\n"
     ]
    },
    {
     "name": "stderr",
     "output_type": "stream",
     "text": [
      " 98%|█████████▊| 48/49 [46:24<00:57, 57.87s/it]"
     ]
    },
    {
     "name": "stdout",
     "output_type": "stream",
     "text": [
      "\n",
      "Saved model to trained_models/model_48.pth\n",
      "\n",
      "Training set: Average loss: 0.0000, Accuracy: 100%\n",
      "\n",
      "\n",
      "Validation set: Average loss: 0.0010, Accuracy: 100%\n",
      "\n"
     ]
    },
    {
     "name": "stderr",
     "output_type": "stream",
     "text": [
      "100%|██████████| 49/49 [47:21<00:00, 57.99s/it]"
     ]
    },
    {
     "name": "stdout",
     "output_type": "stream",
     "text": [
      "\n",
      "Saved model to trained_models/model_49.pth\n"
     ]
    },
    {
     "name": "stderr",
     "output_type": "stream",
     "text": [
      "\n"
     ]
    }
   ],
   "source": [
    "train_loss, train_acc = [], []\n",
    "val_loss, val_acc = [], []\n",
    "for epoch in tqdm(range(1, 50)):\n",
    "    avg_train_loss, avg_train_acc = train(epoch)\n",
    "    avg_val_loss, avg_val_acc = validation()\n",
    "    train_loss.append(avg_train_loss)\n",
    "    train_acc.append(avg_train_acc)\n",
    "    val_loss.append(avg_val_loss)\n",
    "    val_acc.append(avg_val_acc)\n",
    "    model_file = 'trained_models/model_' + str(epoch) + '.pth'\n",
    "    torch.save(model.state_dict(), model_file)\n",
    "    print('\\nSaved model to ' + model_file)"
   ]
  },
  {
   "cell_type": "code",
   "execution_count": 34,
   "metadata": {},
   "outputs": [
    {
     "data": {
      "text/plain": [
       "(95.0, 100.0)"
      ]
     },
     "execution_count": 34,
     "metadata": {},
     "output_type": "execute_result"
    },
    {
     "data": {
      "image/png": "[encoded data removed]",
      "text/plain": [
       "<Figure size 1200x400 with 2 Axes>"
      ]
     },
     "metadata": {
      "needs_background": "light"
     },
     "output_type": "display_data"
    }
   ],
   "source": [
    "# Plot training and validation loss\n",
    "fig, ax = plt.subplots(1, 2, figsize=(12, 4), dpi=100)\n",
    "ax[0].plot(train_loss, label='train', lw=2)\n",
    "ax[0].plot(val_loss, label='val', lw=2)\n",
    "ax[0].set_title('Loss')\n",
    "ax[0].set_xlabel('Epoch')\n",
    "ax[0].set_ylabel('Loss')\n",
    "ax[0].legend()\n",
    "#ax[0].set_ylim([0, 0.1])\n",
    "# remove right and top spines\n",
    "ax[0].spines['right'].set_visible(False)\n",
    "ax[0].spines['top'].set_visible(False)\n",
    "ax[1].plot(train_acc, label='train', lw=2)\n",
    "ax[1].plot(val_acc, label='val', lw=2)\n",
    "ax[1].set_title('Accuracy')\n",
    "ax[1].set_xlabel('Epoch')\n",
    "ax[1].set_ylabel('Accuracy (%)')\n",
    "ax[1].legend()\n",
    "# remove right and top spines\n",
    "ax[1].spines['right'].set_visible(False)    \n",
    "ax[1].spines['top'].set_visible(False)\n",
    "#ax[1].set_ylim([95, 100])"
   ]
  },
  {
   "cell_type": "code",
   "execution_count": null,
   "metadata": {},
   "outputs": [],
   "source": []
  }
 ],
 "metadata": {
  "kernelspec": {
   "display_name": "Python 3.9.7 ('base')",
   "language": "python",
   "name": "python3"
  },
  "language_info": {
   "codemirror_mode": {
    "name": "ipython",
    "version": 3
   },
   "file_extension": ".py",
   "mimetype": "text/x-python",
   "name": "python",
   "nbconvert_exporter": "python",
   "pygments_lexer": "ipython3",
   "version": "3.9.7"
  },
  "orig_nbformat": 4,
  "vscode": {
   "interpreter": {
    "hash": "e019fd396ec95f049220eceb1ef17507a867cb3a5a0d714b39db56f962322af5"
   }
  }
 },
 "nbformat": 4,
 "nbformat_minor": 2
}
