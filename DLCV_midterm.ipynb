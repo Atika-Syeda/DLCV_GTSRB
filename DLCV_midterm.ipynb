{
 "cells": [
  {
   "cell_type": "markdown",
   "metadata": {},
   "source": [
    "## Midterm project"
   ]
  },
  {
   "cell_type": "markdown",
   "metadata": {},
   "source": [
    "CITATIONS:\n",
    "- https://github.com/poojahira/gtsrb-pytorch\n",
    "- https://github.com/surajmurthy/TSR_PyTorch"
   ]
  },
  {
   "cell_type": "code",
   "execution_count": 1,
   "metadata": {},
   "outputs": [],
   "source": [
    "import numpy as np\n",
    "import torch\n",
    "import torch.nn as nn\n",
    "import torch.nn.functional as F\n",
    "import torch.optim as optim\n",
    "import torchvision\n",
    "from torchvision import transforms\n",
    "from tqdm import tqdm\n",
    "import random\n",
    "import matplotlib.pyplot as plt\n",
    "from torch.utils import data\n",
    "from torch.autograd import Variable\n",
    "from torchvision.io import read_image\n",
    "from model import GTSRBnet"
   ]
  },
  {
   "cell_type": "markdown",
   "metadata": {},
   "source": [
    "## Training"
   ]
  },
  {
   "cell_type": "code",
   "execution_count": 2,
   "metadata": {},
   "outputs": [
    {
     "name": "stdout",
     "output_type": "stream",
     "text": [
      "Number of training samples = 35288\n",
      "Number of validation samples = 3921\n"
     ]
    },
    {
     "data": {
      "text/plain": [
       "Text(0, 0.5, '# of examples')"
      ]
     },
     "execution_count": 2,
     "metadata": {},
     "output_type": "execute_result"
    },
    {
     "data": {
      "image/png": "[encoded data removed]",
      "text/plain": [
       "<Figure size 720x360 with 1 Axes>"
      ]
     },
     "metadata": {
      "needs_background": "light"
     },
     "output_type": "display_data"
    }
   ],
   "source": [
    "transform = transforms.Compose([\n",
    "    transforms.Grayscale(num_output_channels=1),\n",
    "    transforms.Resize([212, 256]),\n",
    "    transforms.ToTensor()\n",
    "])\n",
    "\n",
    "# Define path of training data\n",
    "train_data_path = '/home/stringlab/Desktop/DLCV_midterm_project/GTSRB_Final_Training_Images/GTSRB/Final_Training/Images' \n",
    "train_data = torchvision.datasets.ImageFolder(root = train_data_path, transform=transform)\n",
    "\n",
    "# Divide data into training and validation set\n",
    "train_ratio = 0.9\n",
    "n_train_examples = int(len(train_data) * train_ratio)\n",
    "n_val_examples = len(train_data) - n_train_examples\n",
    "\n",
    "train_data, val_data = data.random_split(train_data, [n_train_examples, n_val_examples])\n",
    "print(f\"Number of training samples = {len(train_data)}\")\n",
    "print(f\"Number of validation samples = {len(val_data)}\")\n",
    "\n",
    "num_train_classes = len(train_data.dataset.classes)\n",
    "train_hist = [0]*num_train_classes\n",
    "for i in train_data.indices:\n",
    "    tar = train_data.dataset.targets[i]\n",
    "    train_hist[tar] += 1\n",
    "\n",
    "num_val_classes = len(val_data.dataset.classes)\n",
    "val_hist = [0]*num_val_classes\n",
    "for i in val_data.indices:\n",
    "    tar = val_data.dataset.targets[i]\n",
    "    val_hist[tar] += 1\n",
    "\n",
    "plt.figure(figsize=(10, 5))\n",
    "plt.bar(range(num_train_classes), train_hist, label=\"train\")\n",
    "plt.bar(range(num_val_classes), val_hist, label=\"val\")\n",
    "#plt.bar(range(num_test_classes), test_hist, label=\"test\")\n",
    "legend = plt.legend(loc='upper right', shadow=True)\n",
    "plt.title(\"Distribution Plot\")\n",
    "plt.xlabel(\"Class ID\")\n",
    "plt.ylabel(\"# of examples\")"
   ]
  },
  {
   "cell_type": "code",
   "execution_count": 3,
   "metadata": {},
   "outputs": [],
   "source": [
    "# Create data loader for training and validation\n",
    "BATCH_SIZE = 100\n",
    "LOG_INTERVAL = 100\n",
    "device = torch.device(\"cuda:0\" if torch.cuda.is_available() else \"cpu\")\n",
    "train_loader = data.DataLoader(train_data, shuffle=True, batch_size=BATCH_SIZE)\n",
    "val_loader = data.DataLoader(val_data, shuffle=True, batch_size=BATCH_SIZE)\n",
    "\n",
    "# Neural Network and Optimizer\n",
    "model = GTSRBnet(num_train_classes)\n",
    "model = model.to(device);\n",
    "\n",
    "# Define loss function and optimizer\n",
    "optimizer = optim.Adam(model.parameters(), lr=1e-3)\n",
    "scheduler = optim.lr_scheduler.ReduceLROnPlateau(optimizer, 'min', patience=5, factor=0.5, verbose=True)"
   ]
  },
  {
   "cell_type": "code",
   "execution_count": 4,
   "metadata": {},
   "outputs": [],
   "source": [
    "def train(epoch):\n",
    "    model.train()\n",
    "    correct = 0\n",
    "    training_loss = 0\n",
    "    for batch_idx, (data, target) in enumerate(train_loader):\n",
    "        data, target = Variable(data), Variable(target)\n",
    "        data, target = data.to(device), target.to(device)   \n",
    "        optimizer.zero_grad()\n",
    "        output = model(data)\n",
    "        loss = F.nll_loss(output, target)\n",
    "        loss.backward()\n",
    "        optimizer.step()\n",
    "        max_index = output.max(dim = 1)[1]\n",
    "        correct += (max_index == target).sum()\n",
    "        training_loss += loss\n",
    "        if batch_idx % 10 == 0:\n",
    "            print('Train Epoch: {} [{}/{} ({:.0f}%)]\\tLoss per example: {:.6f}\\tLoss: {:.6f}'.format(\n",
    "                        epoch, batch_idx * len(data), len(train_loader.dataset),\n",
    "                        100. * batch_idx / len(train_loader), loss.data.item()/(BATCH_SIZE * LOG_INTERVAL),loss.data.item()))\n",
    "    avg_train_loss = training_loss / len(train_loader.dataset)\n",
    "    avg_train_acc = 100. * correct / len(train_loader.dataset)\n",
    "    print('\\nTraining set: Average loss: {:.4f}, Accuracy: {:.0f}%\\n'.format(\n",
    "                avg_train_loss, avg_train_acc))\n",
    "    return avg_train_loss, avg_train_acc\n",
    "\n",
    "def validation():\n",
    "    model.eval()\n",
    "    validation_loss = 0\n",
    "    correct = 0\n",
    "    for data, target in val_loader:\n",
    "        with torch.no_grad():\n",
    "            data, target = Variable(data), Variable(target)\n",
    "            data, target = data.to(device), target.to(device)\n",
    "            output = model(data)\n",
    "            validation_loss += F.nll_loss(output, target, size_average=False).data.item() # sum up batch loss\n",
    "            pred = output.data.max(1, keepdim=True)[1] # get the index of the max log-probability\n",
    "            correct += pred.eq(target.data.view_as(pred)).cpu().sum()\n",
    "\n",
    "    validation_loss /= len(val_loader.dataset)\n",
    "    scheduler.step(np.around(validation_loss,2))\n",
    "    validation_acc = 100. * correct / len(val_loader.dataset)\n",
    "    print('\\nValidation set: Average loss: {:.4f}, Accuracy: {:.0f}%\\n'.format(\n",
    "        validation_loss, validation_acc))\n",
    "    return validation_loss, validation_acc\n"
   ]
  },
  {
   "cell_type": "code",
   "execution_count": 5,
   "metadata": {},
   "outputs": [
    {
     "name": "stdout",
     "output_type": "stream",
     "text": [
      "Train Epoch: 1 [0/35288 (0%)]\tLoss per example: 0.000377\tLoss: 3.771584\n",
      "Train Epoch: 1 [1000/35288 (3%)]\tLoss per example: 0.000380\tLoss: 3.798339\n",
      "Train Epoch: 1 [2000/35288 (6%)]\tLoss per example: 0.000417\tLoss: 4.168219\n",
      "Train Epoch: 1 [3000/35288 (8%)]\tLoss per example: 0.000377\tLoss: 3.771859\n",
      "Train Epoch: 1 [4000/35288 (11%)]\tLoss per example: 0.000371\tLoss: 3.710956\n",
      "Train Epoch: 1 [5000/35288 (14%)]\tLoss per example: 0.000363\tLoss: 3.630858\n",
      "Train Epoch: 1 [6000/35288 (17%)]\tLoss per example: 0.000361\tLoss: 3.606360\n",
      "Train Epoch: 1 [7000/35288 (20%)]\tLoss per example: 0.000372\tLoss: 3.716578\n",
      "Train Epoch: 1 [8000/35288 (23%)]\tLoss per example: 0.000365\tLoss: 3.646364\n",
      "Train Epoch: 1 [9000/35288 (25%)]\tLoss per example: 0.000358\tLoss: 3.578210\n",
      "Train Epoch: 1 [10000/35288 (28%)]\tLoss per example: 0.000363\tLoss: 3.630767\n",
      "Train Epoch: 1 [11000/35288 (31%)]\tLoss per example: 0.000364\tLoss: 3.643912\n",
      "Train Epoch: 1 [12000/35288 (34%)]\tLoss per example: 0.000353\tLoss: 3.528560\n",
      "Train Epoch: 1 [13000/35288 (37%)]\tLoss per example: 0.000355\tLoss: 3.549981\n",
      "Train Epoch: 1 [14000/35288 (40%)]\tLoss per example: 0.000359\tLoss: 3.594165\n",
      "Train Epoch: 1 [15000/35288 (42%)]\tLoss per example: 0.000347\tLoss: 3.474169\n",
      "Train Epoch: 1 [16000/35288 (45%)]\tLoss per example: 0.000346\tLoss: 3.459906\n",
      "Train Epoch: 1 [17000/35288 (48%)]\tLoss per example: 0.000331\tLoss: 3.312824\n",
      "Train Epoch: 1 [18000/35288 (51%)]\tLoss per example: 0.000345\tLoss: 3.454871\n",
      "Train Epoch: 1 [19000/35288 (54%)]\tLoss per example: 0.000338\tLoss: 3.378551\n",
      "Train Epoch: 1 [20000/35288 (57%)]\tLoss per example: 0.000302\tLoss: 3.023063\n",
      "Train Epoch: 1 [21000/35288 (59%)]\tLoss per example: 0.000317\tLoss: 3.172087\n",
      "Train Epoch: 1 [22000/35288 (62%)]\tLoss per example: 0.000291\tLoss: 2.914212\n",
      "Train Epoch: 1 [23000/35288 (65%)]\tLoss per example: 0.000265\tLoss: 2.654016\n",
      "Train Epoch: 1 [24000/35288 (68%)]\tLoss per example: 0.000272\tLoss: 2.716522\n",
      "Train Epoch: 1 [25000/35288 (71%)]\tLoss per example: 0.000277\tLoss: 2.769563\n",
      "Train Epoch: 1 [26000/35288 (74%)]\tLoss per example: 0.000244\tLoss: 2.435412\n",
      "Train Epoch: 1 [27000/35288 (76%)]\tLoss per example: 0.000251\tLoss: 2.510629\n",
      "Train Epoch: 1 [28000/35288 (79%)]\tLoss per example: 0.000247\tLoss: 2.472976\n",
      "Train Epoch: 1 [29000/35288 (82%)]\tLoss per example: 0.000198\tLoss: 1.975572\n",
      "Train Epoch: 1 [30000/35288 (85%)]\tLoss per example: 0.000211\tLoss: 2.110952\n",
      "Train Epoch: 1 [31000/35288 (88%)]\tLoss per example: 0.000215\tLoss: 2.149134\n",
      "Train Epoch: 1 [32000/35288 (91%)]\tLoss per example: 0.000251\tLoss: 2.508797\n",
      "Train Epoch: 1 [33000/35288 (93%)]\tLoss per example: 0.000200\tLoss: 1.995336\n",
      "Train Epoch: 1 [34000/35288 (96%)]\tLoss per example: 0.000179\tLoss: 1.788542\n",
      "Train Epoch: 1 [35000/35288 (99%)]\tLoss per example: 0.000189\tLoss: 1.885270\n",
      "\n",
      "Training set: Average loss: 0.0312, Accuracy: (16%)\n",
      "\n"
     ]
    },
    {
     "name": "stderr",
     "output_type": "stream",
     "text": [
      "/home/stringlab/anaconda3/lib/python3.9/site-packages/torch/nn/_reduction.py:42: UserWarning: size_average and reduce args will be deprecated, please use reduction='sum' instead.\n",
      "  warnings.warn(warning.format(ret))\n"
     ]
    },
    {
     "name": "stdout",
     "output_type": "stream",
     "text": [
      "\n",
      "Validation set: Average loss: 1.6341, Accuracy: 50%\n",
      "\n",
      "\n",
      "Saved model to trained_models/model_1.pth\n",
      "Train Epoch: 2 [0/35288 (0%)]\tLoss per example: 0.000199\tLoss: 1.993444\n",
      "Train Epoch: 2 [1000/35288 (3%)]\tLoss per example: 0.000223\tLoss: 2.231097\n",
      "Train Epoch: 2 [2000/35288 (6%)]\tLoss per example: 0.000169\tLoss: 1.693544\n",
      "Train Epoch: 2 [3000/35288 (8%)]\tLoss per example: 0.000174\tLoss: 1.736700\n",
      "Train Epoch: 2 [4000/35288 (11%)]\tLoss per example: 0.000186\tLoss: 1.862376\n",
      "Train Epoch: 2 [5000/35288 (14%)]\tLoss per example: 0.000132\tLoss: 1.322963\n",
      "Train Epoch: 2 [6000/35288 (17%)]\tLoss per example: 0.000129\tLoss: 1.290545\n",
      "Train Epoch: 2 [7000/35288 (20%)]\tLoss per example: 0.000173\tLoss: 1.734731\n",
      "Train Epoch: 2 [8000/35288 (23%)]\tLoss per example: 0.000132\tLoss: 1.315735\n",
      "Train Epoch: 2 [9000/35288 (25%)]\tLoss per example: 0.000142\tLoss: 1.424139\n",
      "Train Epoch: 2 [10000/35288 (28%)]\tLoss per example: 0.000149\tLoss: 1.488037\n",
      "Train Epoch: 2 [11000/35288 (31%)]\tLoss per example: 0.000110\tLoss: 1.104162\n",
      "Train Epoch: 2 [12000/35288 (34%)]\tLoss per example: 0.000111\tLoss: 1.111719\n",
      "Train Epoch: 2 [13000/35288 (37%)]\tLoss per example: 0.000134\tLoss: 1.341855\n",
      "Train Epoch: 2 [14000/35288 (40%)]\tLoss per example: 0.000082\tLoss: 0.821731\n",
      "Train Epoch: 2 [15000/35288 (42%)]\tLoss per example: 0.000077\tLoss: 0.767366\n",
      "Train Epoch: 2 [16000/35288 (45%)]\tLoss per example: 0.000108\tLoss: 1.083332\n",
      "Train Epoch: 2 [17000/35288 (48%)]\tLoss per example: 0.000072\tLoss: 0.723166\n",
      "Train Epoch: 2 [18000/35288 (51%)]\tLoss per example: 0.000062\tLoss: 0.621282\n",
      "Train Epoch: 2 [19000/35288 (54%)]\tLoss per example: 0.000078\tLoss: 0.775088\n",
      "Train Epoch: 2 [20000/35288 (57%)]\tLoss per example: 0.000073\tLoss: 0.734502\n",
      "Train Epoch: 2 [21000/35288 (59%)]\tLoss per example: 0.000052\tLoss: 0.517923\n",
      "Train Epoch: 2 [22000/35288 (62%)]\tLoss per example: 0.000061\tLoss: 0.611061\n",
      "Train Epoch: 2 [23000/35288 (65%)]\tLoss per example: 0.000068\tLoss: 0.676351\n",
      "Train Epoch: 2 [24000/35288 (68%)]\tLoss per example: 0.000060\tLoss: 0.596097\n",
      "Train Epoch: 2 [25000/35288 (71%)]\tLoss per example: 0.000056\tLoss: 0.561759\n",
      "Train Epoch: 2 [26000/35288 (74%)]\tLoss per example: 0.000041\tLoss: 0.410898\n",
      "Train Epoch: 2 [27000/35288 (76%)]\tLoss per example: 0.000039\tLoss: 0.394582\n",
      "Train Epoch: 2 [28000/35288 (79%)]\tLoss per example: 0.000040\tLoss: 0.400081\n",
      "Train Epoch: 2 [29000/35288 (82%)]\tLoss per example: 0.000037\tLoss: 0.365243\n",
      "Train Epoch: 2 [30000/35288 (85%)]\tLoss per example: 0.000032\tLoss: 0.323521\n",
      "Train Epoch: 2 [31000/35288 (88%)]\tLoss per example: 0.000037\tLoss: 0.370656\n",
      "Train Epoch: 2 [32000/35288 (91%)]\tLoss per example: 0.000029\tLoss: 0.294904\n",
      "Train Epoch: 2 [33000/35288 (93%)]\tLoss per example: 0.000031\tLoss: 0.311957\n",
      "Train Epoch: 2 [34000/35288 (96%)]\tLoss per example: 0.000023\tLoss: 0.232695\n",
      "Train Epoch: 2 [35000/35288 (99%)]\tLoss per example: 0.000050\tLoss: 0.497007\n",
      "\n",
      "Training set: Average loss: 0.0091, Accuracy: (73%)\n",
      "\n",
      "\n",
      "Validation set: Average loss: 0.1359, Accuracy: 96%\n",
      "\n",
      "\n",
      "Saved model to trained_models/model_2.pth\n",
      "Train Epoch: 3 [0/35288 (0%)]\tLoss per example: 0.000021\tLoss: 0.213311\n",
      "Train Epoch: 3 [1000/35288 (3%)]\tLoss per example: 0.000012\tLoss: 0.116573\n",
      "Train Epoch: 3 [2000/35288 (6%)]\tLoss per example: 0.000020\tLoss: 0.196131\n",
      "Train Epoch: 3 [3000/35288 (8%)]\tLoss per example: 0.000010\tLoss: 0.095095\n",
      "Train Epoch: 3 [4000/35288 (11%)]\tLoss per example: 0.000022\tLoss: 0.216599\n",
      "Train Epoch: 3 [5000/35288 (14%)]\tLoss per example: 0.000033\tLoss: 0.332191\n",
      "Train Epoch: 3 [6000/35288 (17%)]\tLoss per example: 0.000021\tLoss: 0.210183\n",
      "Train Epoch: 3 [7000/35288 (20%)]\tLoss per example: 0.000011\tLoss: 0.108415\n",
      "Train Epoch: 3 [8000/35288 (23%)]\tLoss per example: 0.000030\tLoss: 0.297619\n",
      "Train Epoch: 3 [9000/35288 (25%)]\tLoss per example: 0.000021\tLoss: 0.212965\n",
      "Train Epoch: 3 [10000/35288 (28%)]\tLoss per example: 0.000025\tLoss: 0.246558\n",
      "Train Epoch: 3 [11000/35288 (31%)]\tLoss per example: 0.000008\tLoss: 0.078858\n",
      "Train Epoch: 3 [12000/35288 (34%)]\tLoss per example: 0.000035\tLoss: 0.346473\n",
      "Train Epoch: 3 [13000/35288 (37%)]\tLoss per example: 0.000020\tLoss: 0.196097\n",
      "Train Epoch: 3 [14000/35288 (40%)]\tLoss per example: 0.000014\tLoss: 0.140776\n",
      "Train Epoch: 3 [15000/35288 (42%)]\tLoss per example: 0.000021\tLoss: 0.214831\n",
      "Train Epoch: 3 [16000/35288 (45%)]\tLoss per example: 0.000026\tLoss: 0.261531\n",
      "Train Epoch: 3 [17000/35288 (48%)]\tLoss per example: 0.000006\tLoss: 0.060317\n",
      "Train Epoch: 3 [18000/35288 (51%)]\tLoss per example: 0.000009\tLoss: 0.089023\n",
      "Train Epoch: 3 [19000/35288 (54%)]\tLoss per example: 0.000010\tLoss: 0.096100\n",
      "Train Epoch: 3 [20000/35288 (57%)]\tLoss per example: 0.000022\tLoss: 0.222177\n",
      "Train Epoch: 3 [21000/35288 (59%)]\tLoss per example: 0.000027\tLoss: 0.267294\n"
     ]
    }
   ],
   "source": [
    "train_loss, train_acc = [], []\n",
    "val_loss, val_acc = [], []\n",
    "for epoch in range(1, 50):\n",
    "    avg_train_loss, avg_train_acc = train(epoch)\n",
    "    avg_val_loss, avg_val_acc = validation()\n",
    "    train_loss.append(avg_train_loss)\n",
    "    train_acc.append(avg_train_acc)\n",
    "    val_loss.append(avg_val_loss)\n",
    "    val_acc.append(avg_val_acc)\n",
    "    model_file = 'trained_models/model_' + str(epoch) + '.pth'\n",
    "    torch.save(model.state_dict(), model_file)\n",
    "    print('\\nSaved model to ' + model_file)"
   ]
  },
  {
   "cell_type": "code",
   "execution_count": null,
   "metadata": {},
   "outputs": [],
   "source": [
    "# Plot training and validation loss\n",
    "fig, ax = plt.subplots(1, 2, figsize=(15, 5))\n",
    "ax[0].plot(train_loss, label='train')\n",
    "ax[0].plot(val_loss, label='val')\n",
    "ax[0].set_title('Loss')\n",
    "ax[0].set_xlabel('Epoch')\n",
    "ax[0].set_ylabel('Loss')\n",
    "ax[0].legend()\n",
    "ax[1].plot(train_acc, label='train')\n",
    "ax[1].plot(val_acc, label='val')\n",
    "ax[1].set_title('Accuracy')\n",
    "ax[1].set_xlabel('Epoch')\n",
    "ax[1].set_ylabel('Accuracy')\n",
    "ax[1].legend()\n"
   ]
  },
  {
   "cell_type": "code",
   "execution_count": null,
   "metadata": {},
   "outputs": [],
   "source": []
  }
 ],
 "metadata": {
  "kernelspec": {
   "display_name": "Python 3.9.7 ('base')",
   "language": "python",
   "name": "python3"
  },
  "language_info": {
   "codemirror_mode": {
    "name": "ipython",
    "version": 3
   },
   "file_extension": ".py",
   "mimetype": "text/x-python",
   "name": "python",
   "nbconvert_exporter": "python",
   "pygments_lexer": "ipython3",
   "version": "3.9.7"
  },
  "orig_nbformat": 4,
  "vscode": {
   "interpreter": {
    "hash": "e019fd396ec95f049220eceb1ef17507a867cb3a5a0d714b39db56f962322af5"
   }
  }
 },
 "nbformat": 4,
 "nbformat_minor": 2
}
