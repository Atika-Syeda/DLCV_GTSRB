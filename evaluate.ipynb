{
 "cells": [
  {
   "cell_type": "code",
   "execution_count": 1,
   "metadata": {},
   "outputs": [],
   "source": [
    "from __future__ import print_function\n",
    "import argparse\n",
    "from tqdm import tqdm\n",
    "import os\n",
    "import pandas as pd\n",
    "import torch\n",
    "from torch.autograd import Variable\n",
    "import matplotlib.pyplot as plt\n",
    "import seaborn as sns\n",
    "from sklearn.metrics import confusion_matrix\n",
    "import numpy as np\n",
    "import torchvision\n",
    "from torchvision import transforms\n",
    "from glob import glob\n",
    "from model import GTSRBnet\n",
    "import utils"
   ]
  },
  {
   "cell_type": "code",
   "execution_count": 2,
   "metadata": {},
   "outputs": [],
   "source": [
    "model_file = '/home/stringlab/Desktop/DLCV_midterm_project/trained_models/model_49.pth'\n",
    "test_dir = '/home/stringlab/Desktop/DLCV_midterm_project/GTSRB_Final_Test_Images/GTSRB/Final_Test/Images'\n",
    "output_file = open(\"pred.csv\", \"w\")\n",
    "state_dict = torch.load(model_file)\n",
    "model = GTSRBnet(n_classes=43)\n",
    "model.load_state_dict(state_dict)\n",
    "model.eval();"
   ]
  },
  {
   "cell_type": "code",
   "execution_count": null,
   "metadata": {},
   "outputs": [],
   "source": [
    "transform = transforms.Compose([\n",
    "    transforms.Grayscale(num_output_channels=1),\n",
    "    transforms.Resize([212, 256]),\n",
    "    transforms.ToTensor()\n",
    "])\n",
    "\n",
    "output_file.write(\"Filename,ClassId\\n\")\n",
    "\n",
    "for f in tqdm(sorted(glob(os.path.join(test_dir, \"*.ppm\")))):\n",
    "    output = torch.zeros([1, 43], dtype=torch.float32)\n",
    "    with torch.no_grad():\n",
    "        data = transform(utils.pil_loader(f))\n",
    "        data = data.view(1, data.size(0), data.size(1), data.size(2))\n",
    "        data = Variable(data)\n",
    "        output = output.add(model(data))\n",
    "        pred = output.data.max(1, keepdim=True)[1]\n",
    "        file_id = f[0:5]\n",
    "        output_file.write(\"%s,%d\\n\" % (file_id, pred))\n",
    "        \n",
    "output_file.close()"
   ]
  },
  {
   "cell_type": "code",
   "execution_count": null,
   "metadata": {},
   "outputs": [],
   "source": [
    "# Calculate test accuracy\n",
    "gt_file = '/home/stringlab/Desktop/DLCV_midterm_project/GTSRB_Final_Test_GT/GT-final_test.csv'\n",
    "gt = pd.read_csv(gt_file, sep=';')\n",
    "pred_file = '/home/stringlab/Desktop/DLCV_midterm_project/pred.csv'\n",
    "pred = pd.read_csv(pred_file, sep=',')"
   ]
  },
  {
   "cell_type": "code",
   "execution_count": null,
   "metadata": {},
   "outputs": [],
   "source": [
    "print(\"Accuracy: \", (gt['ClassId']==pred['ClassId']).sum()/len(gt)*100, \"%\")"
   ]
  },
  {
   "cell_type": "code",
   "execution_count": null,
   "metadata": {},
   "outputs": [],
   "source": [
    "# Provide a class confusion matrix showing relative distribution (in percentages) of\n",
    "# classifications for each class in each cell (and not cardinalities)\n",
    "\n",
    "# Plot a confusion matrix\n",
    "cm = confusion_matrix(gt['ClassId'], pred['ClassId'])\n",
    "cm = (cm.astype('float') / cm.sum(axis=1)[:, np.newaxis])*100\n",
    "plt.figure(figsize=(25,20))\n",
    "sns.heatmap(cm, annot=True, fmt='.1f', cmap='Blues')\n",
    "plt.ylabel('True label', fontsize=20)\n",
    "plt.xlabel('Predicted label', fontsize=20)\n",
    "plt.show()"
   ]
  },
  {
   "cell_type": "code",
   "execution_count": null,
   "metadata": {},
   "outputs": [],
   "source": []
  }
 ],
 "metadata": {
  "kernelspec": {
   "display_name": "Python 3.9.7 ('base')",
   "language": "python",
   "name": "python3"
  },
  "language_info": {
   "codemirror_mode": {
    "name": "ipython",
    "version": 3
   },
   "file_extension": ".py",
   "mimetype": "text/x-python",
   "name": "python",
   "nbconvert_exporter": "python",
   "pygments_lexer": "ipython3",
   "version": "3.9.7"
  },
  "orig_nbformat": 4,
  "vscode": {
   "interpreter": {
    "hash": "e019fd396ec95f049220eceb1ef17507a867cb3a5a0d714b39db56f962322af5"
   }
  }
 },
 "nbformat": 4,
 "nbformat_minor": 2
}
