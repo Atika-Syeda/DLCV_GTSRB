{
 "cells": [
  {
   "cell_type": "code",
   "execution_count": 1,
   "metadata": {},
   "outputs": [],
   "source": [
    "from __future__ import print_function\n",
    "import argparse\n",
    "from tqdm import tqdm\n",
    "import os\n",
    "import PIL.Image as Image\n",
    "\n",
    "import torch\n",
    "from torch.autograd import Variable\n",
    "from torch import  nn\n",
    "import torch.nn.functional as F\n",
    "import torchvision.datasets as datasets\n",
    "import numpy as np\n",
    "import torchvision\n",
    "from torchvision import transforms"
   ]
  },
  {
   "cell_type": "code",
   "execution_count": 2,
   "metadata": {},
   "outputs": [],
   "source": [
    "class FMnet(nn.Module):\n",
    "    def __init__(\n",
    "        self,\n",
    "        n_classes,\n",
    "        img_ch=1,\n",
    "        channels=[16, 32, 64, 128, 200],\n",
    "        device=['cuda' if torch.cuda.is_available() else 'cpu'][0],\n",
    "        kernel=3,\n",
    "        shape=(256, 256),\n",
    "        n_upsample=4,\n",
    "    ):\n",
    "        super().__init__()\n",
    "        self.n_upsample = n_upsample\n",
    "        self.image_shape = shape\n",
    "        self.device = device\n",
    "        self.channels = channels\n",
    "\n",
    "        self.Conv = nn.Sequential()\n",
    "        self.Conv.add_module(\n",
    "            \"conv0\",\n",
    "            convblock(ch_in=img_ch, ch_out=channels[0], kernel_sz=kernel, block=0),\n",
    "        )\n",
    "        for k in range(1, len(channels)):\n",
    "            self.Conv.add_module(\n",
    "                f\"conv{k}\",\n",
    "                convblock(\n",
    "                    ch_in=channels[k - 1], ch_out=channels[k], kernel_sz=kernel, block=k\n",
    "                ),\n",
    "            )\n",
    "\n",
    "        self.conv_drop = nn.Dropout2d()\n",
    "        self.fc1 = nn.Linear(self.channels[-1]*14*16, 350)\n",
    "        self.fc2 = nn.Linear(350, n_classes)\n",
    "\n",
    "        self.localization = nn.Sequential(\n",
    "            nn.Conv2d(3, 8, kernel_size=7),\n",
    "            nn.MaxPool2d(2, stride=2),\n",
    "            nn.ReLU(True),\n",
    "            nn.Conv2d(8, 10, kernel_size=5),\n",
    "            nn.MaxPool2d(2, stride=2),\n",
    "            nn.ReLU(True)\n",
    "            )\n",
    "\n",
    "        # Regressor for the 3 * 2 affine matrix\n",
    "        self.fc_loc = nn.Sequential(\n",
    "            nn.Linear(10 * 4 * 4, 32),\n",
    "            nn.ReLU(True),\n",
    "            nn.Linear(32, 3 * 2)\n",
    "            )\n",
    "   \n",
    "        # Initialize the weights/bias with identity transformation\n",
    "        self.fc_loc[2].weight.data.zero_()\n",
    "        self.fc_loc[2].bias.data.copy_(torch.tensor([1, 0, 0, 0, 1, 0], dtype=torch.float))\n",
    "\n",
    "    def forward(self, x, normalize=False, verbose=False):\n",
    "        # encoding path\n",
    "        xout = []\n",
    "        x = self.Conv[0](x)\n",
    "        xout.append(x)\n",
    "        for k in range(1, len(self.Conv)):\n",
    "            x = F.max_pool2d(x, kernel_size=3, stride=2, padding=1)\n",
    "            x = self.Conv[k](x)\n",
    "            xout.append(x)\n",
    "\n",
    "        # transform the input\n",
    "        x = self.conv_drop(x)\n",
    "        x = x.view(-1, self.channels[-1]*14*16)\n",
    "        x = F.relu(self.fc1(x))\n",
    "        x = F.dropout(x, training=self.training)\n",
    "        x = self.fc2(x)\n",
    "        return F.log_softmax(x, dim=1)\n",
    "\n",
    "\n",
    "class convblock(nn.Module):\n",
    "    def __init__(self, ch_in, ch_out, kernel_sz, block=-1):\n",
    "        super().__init__()\n",
    "        self.conv = nn.Sequential()\n",
    "        self.block = block\n",
    "        if self.block != 0:\n",
    "            self.conv.add_module(\"conv_0\", batchconv(ch_in, ch_out, kernel_sz))\n",
    "        else:\n",
    "            self.conv.add_module(\"conv_0\", batchconv0(ch_in, ch_out, kernel_sz))\n",
    "        self.conv.add_module(\"conv_1\", batchconv(ch_out, ch_out, kernel_sz))\n",
    "\n",
    "    def forward(self, x):\n",
    "        x = self.conv[1](self.conv[0](x))\n",
    "        return x\n",
    "\n",
    "\n",
    "def batchconv0(ch_in, ch_out, kernel_sz):\n",
    "    return nn.Sequential(\n",
    "        nn.BatchNorm2d(ch_in, eps=1e-5, momentum=0.1),\n",
    "        nn.Conv2d(ch_in, ch_out, kernel_sz, padding=kernel_sz // 2, bias=False),\n",
    "    )\n",
    "\n",
    "\n",
    "def batchconv(ch_in, ch_out, sz):\n",
    "    return nn.Sequential(\n",
    "        nn.BatchNorm2d(ch_in, eps=1e-5, momentum=0.1),\n",
    "        nn.ReLU(inplace=True),\n",
    "        nn.Conv2d(ch_in, ch_out, sz, padding=sz // 2, bias=False),\n",
    "    )"
   ]
  },
  {
   "cell_type": "code",
   "execution_count": 3,
   "metadata": {},
   "outputs": [],
   "source": [
    "model_file = '/home/stringlab/Desktop/DLCV_midterm_project/trained_models/model_23.pth' \n",
    "state_dict = torch.load(model_file)\n",
    "model = FMnet(n_classes=43)\n",
    "model.load_state_dict(state_dict)\n",
    "model.eval();\n"
   ]
  },
  {
   "cell_type": "code",
   "execution_count": 4,
   "metadata": {},
   "outputs": [
    {
     "name": "stderr",
     "output_type": "stream",
     "text": [
      "100%|██████████| 12631/12631 [04:48<00:00, 43.77it/s]\n"
     ]
    }
   ],
   "source": [
    "test_dir = '/home/stringlab/Desktop/DLCV_midterm_project/GTSRB_Final_Test_Images/GTSRB/Final_Test/Images'\n",
    "output_file = open(\"pred.csv\", \"w\")\n",
    "\n",
    "transform = transforms.Compose([\n",
    "    # you can add other transformations in this list\n",
    "    transforms.Grayscale(num_output_channels=1),\n",
    "    transforms.Resize([212, 256]),\n",
    "    transforms.ToTensor()\n",
    "    #transforms.Resize((32, 32)),\n",
    "    #transforms.ToTensor(),\n",
    "    #transforms.Normalize((0.3337, 0.3064, 0.3171), ( 0.2672, 0.2564, 0.2629))\n",
    "])\n",
    "\n",
    "def pil_loader(path):\n",
    "    # open path as file to avoid ResourceWarning (https://github.com/python-pillow/Pillow/issues/835)\n",
    "    with open(path, 'rb') as f:\n",
    "        with Image.open(f) as img:\n",
    "            return img.convert('RGB')\n",
    "\n",
    "output_file.write(\"Filename,ClassId\\n\")\n",
    "\n",
    "for f in tqdm(sorted(os.listdir(test_dir))):\n",
    "    if 'ppm' in f:\n",
    "        output = torch.zeros([1, 43], dtype=torch.float32)\n",
    "        with torch.no_grad():\n",
    "            data = transform(pil_loader(test_dir + '/' + f))\n",
    "            data = data.view(1, data.size(0), data.size(1), data.size(2))\n",
    "            data = Variable(data)\n",
    "            output = output.add(model(data))\n",
    "            pred = output.data.max(1, keepdim=True)[1]\n",
    "            file_id = f[0:5]\n",
    "            output_file.write(\"%s,%d\\n\" % (file_id, pred))\n",
    "        \n",
    "output_file.close()"
   ]
  },
  {
   "cell_type": "code",
   "execution_count": 8,
   "metadata": {},
   "outputs": [],
   "source": [
    "# Calculate test accuracy\n",
    "import pandas as pd\n",
    "\n",
    "gt_file = '/home/stringlab/Desktop/DLCV_midterm_project/GTSRB_Final_Test_GT/GT-final_test.csv'\n",
    "gt = pd.read_csv(gt_file, sep=';')\n",
    "pred_file = '/home/stringlab/Desktop/DLCV_midterm_project/pred.csv'\n",
    "pred = pd.read_csv(pred_file, sep=',')"
   ]
  },
  {
   "cell_type": "code",
   "execution_count": 12,
   "metadata": {},
   "outputs": [
    {
     "name": "stdout",
     "output_type": "stream",
     "text": [
      "Accuracy:  97.9889152810768 %\n"
     ]
    }
   ],
   "source": [
    "print(\"Accuracy: \", (gt['ClassId']==pred['ClassId']).sum()/len(gt)*100, \"%\")"
   ]
  },
  {
   "cell_type": "code",
   "execution_count": null,
   "metadata": {},
   "outputs": [],
   "source": []
  }
 ],
 "metadata": {
  "kernelspec": {
   "display_name": "Python 3.9.7 ('base')",
   "language": "python",
   "name": "python3"
  },
  "language_info": {
   "codemirror_mode": {
    "name": "ipython",
    "version": 3
   },
   "file_extension": ".py",
   "mimetype": "text/x-python",
   "name": "python",
   "nbconvert_exporter": "python",
   "pygments_lexer": "ipython3",
   "version": "3.9.7"
  },
  "orig_nbformat": 4,
  "vscode": {
   "interpreter": {
    "hash": "e019fd396ec95f049220eceb1ef17507a867cb3a5a0d714b39db56f962322af5"
   }
  }
 },
 "nbformat": 4,
 "nbformat_minor": 2
}
